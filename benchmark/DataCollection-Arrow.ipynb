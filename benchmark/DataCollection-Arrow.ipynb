{
 "cells": [
  {
   "cell_type": "markdown",
   "id": "b9a5130a",
   "metadata": {},
   "source": [
    "# Data Preparation"
   ]
  },
  {
   "cell_type": "code",
   "execution_count": null,
   "id": "5abe15fb",
   "metadata": {},
   "outputs": [],
   "source": [
    "! curl -L https://github.com/towhee-io/examples/releases/download/data/reverse_image_search.zip -O\n",
    "! unzip -q -o reverse_image_search.zip"
   ]
  },
  {
   "cell_type": "markdown",
   "id": "13e80e5b",
   "metadata": {},
   "source": [
    "# Code Preparation"
   ]
  },
  {
   "cell_type": "code",
   "execution_count": null,
   "id": "588fe00e",
   "metadata": {},
   "outputs": [],
   "source": [
    "import sys\n",
    "import torch\n",
    "from torchvision import transforms\n",
    "import torchvision.transforms.functional as TF\n",
    "from torchvision import models\n",
    "\n",
    "import towhee\n",
    "\n",
    "\n",
    "@towhee.register\n",
    "class image_normalize:\n",
    "    def __init__(self, mean=[0.485, 0.456, 0.406], std=[0.229, 0.224, 0.225]):\n",
    "        self._mean = mean\n",
    "        self._std = std\n",
    "        \n",
    "    def __call__(self, x):\n",
    "        x = torch.tensor(x, dtype=torch.float32).permute(2, 0, 1)\n",
    "        return TF.normalize(x, mean=self._mean, std=self._std).detach().numpy()\n",
    "    \n",
    "    def __vcall__(self, x):\n",
    "#         print('=', 'image_normalize', file=sys.stderr)\n",
    "        x = torch.tensor(x, dtype=torch.float32).permute(0, 3, 1, 2)\n",
    "        return TF.normalize(x, mean=self._mean, std=self._std).detach().numpy()\n",
    "\n",
    "@towhee.register\n",
    "class image_embedding:\n",
    "    def __init__(self):\n",
    "        torch_model = models.resnet18(pretrained=True)\n",
    "        torch_model = torch.nn.Sequential(*(list(torch_model.children())[:-1]))\n",
    "        torch_model.to('cuda' if torch.cuda.is_available() else 'cpu')\n",
    "        _ = torch_model.eval()\n",
    "        \n",
    "        self._model = torch_model\n",
    "\n",
    "    def __call__(self, imgs):\n",
    "        imgs = torch.tensor(imgs)\n",
    "        imgs = torch.unsqueeze(imgs, 0)\n",
    "        embedding = self._model(imgs).detach().cpu().numpy()\n",
    "        return embedding.reshape([512])\n",
    "    \n",
    "    def __vcall__(self, imgs):\n",
    "        imgs = torch.tensor(imgs)\n",
    "#         print('=', 'image_embedding', file=sys.stderr)\n",
    "        embedding = self._model(imgs).detach().cpu().numpy()\n",
    "        return embedding.reshape([-1, 512])"
   ]
  },
  {
   "cell_type": "markdown",
   "id": "8850f2ef",
   "metadata": {},
   "source": [
    "# Benchmarks"
   ]
  },
  {
   "cell_type": "markdown",
   "id": "56c364a6",
   "metadata": {},
   "source": [
    "## Convert to Arrow-based DataFrame"
   ]
  },
  {
   "cell_type": "code",
   "execution_count": null,
   "id": "5de4b479",
   "metadata": {},
   "outputs": [],
   "source": [
    "%%time\n",
    "\n",
    "dc = towhee.read_csv('reverse_image_search.csv').unstream() \\\n",
    "    .runas_op['id', 'id'](func=lambda x: int(x)) \\\n",
    "    .image_decode['path', 'img']() \\\n",
    "    .image_resize['img', 'img'](dsize=[224, 224]) \\\n",
    "    .to_column()"
   ]
  },
  {
   "cell_type": "markdown",
   "id": "eb00bf4a",
   "metadata": {},
   "source": [
    "## Row-based DataFrame"
   ]
  },
  {
   "cell_type": "code",
   "execution_count": null,
   "id": "1f342468",
   "metadata": {},
   "outputs": [],
   "source": [
    "%%time\n",
    "dc = towhee.read_csv('reverse_image_search.csv').unstream() \\\n",
    "    .head(100) \\\n",
    "    .runas_op['id', 'id'](func=lambda x: int(x)) \\\n",
    "    .image_decode['path', 'img']() \\\n",
    "    .image_resize['img', 'img'](dsize=[224, 224]) \\\n",
    "    .image_normalize['img', 'rimg']() \\\n",
    "    .image_embedding['rimg', 'embedding']()"
   ]
  },
  {
   "cell_type": "markdown",
   "id": "3771cf5b",
   "metadata": {},
   "source": [
    "## Col-based DataFrame"
   ]
  },
  {
   "cell_type": "code",
   "execution_count": null,
   "id": "6aed4564",
   "metadata": {},
   "outputs": [],
   "source": [
    "%%time\n",
    "dc = towhee.read_csv('reverse_image_search.csv').unstream() \\\n",
    "    .head(100) \\\n",
    "    .runas_op['id', 'id'](func=lambda x: int(x)) \\\n",
    "    .image_decode['path', 'img']() \\\n",
    "    .image_resize['img', 'img'](dsize=[224, 224]) \\\n",
    "    .to_column() \\\n",
    "    .image_normalize['img', 'rimg']() \\\n",
    "    .image_embedding['rimg', 'embedding']()"
   ]
  },
  {
   "cell_type": "markdown",
   "id": "554f3969",
   "metadata": {},
   "source": [
    "## Chunked DataFrame"
   ]
  },
  {
   "cell_type": "code",
   "execution_count": null,
   "id": "91b39b1b",
   "metadata": {},
   "outputs": [],
   "source": [
    "%%time\n",
    "dc = towhee.read_csv('reverse_image_search.csv').unstream() \\\n",
    "    .head(100) \\\n",
    "    .runas_op['id', 'id'](func=lambda x: int(x)) \\\n",
    "    .image_decode['path', 'img']() \\\n",
    "    .image_resize['img', 'img'](dsize=[224, 224]) \\\n",
    "    .set_chunksize(5) \\\n",
    "    .image_normalize['img', 'rimg']() \\\n",
    "    .image_embedding['rimg', 'embedding']()"
   ]
  }
 ],
 "metadata": {
  "kernelspec": {
   "display_name": "Python 3 (ipykernel)",
   "language": "python",
   "name": "python3"
  },
  "language_info": {
   "codemirror_mode": {
    "name": "ipython",
    "version": 3
   },
   "file_extension": ".py",
   "mimetype": "text/x-python",
   "name": "python",
   "nbconvert_exporter": "python",
   "pygments_lexer": "ipython3",
   "version": "3.9.10"
  }
 },
 "nbformat": 4,
 "nbformat_minor": 5
}
