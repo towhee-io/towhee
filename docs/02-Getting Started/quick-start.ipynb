{
 "cells": [
  {
   "cell_type": "markdown",
   "id": "9d8b3ffe",
   "metadata": {},
   "source": [
    "# Quick Start\n",
    "\n",
    "In this short tutorial, you can try Towhee for yourself in this browser-based scenario.\n",
    "\n",
    "\n",
    "## Install Towhee\n",
    "\n",
    "The browser-based terminal you just brought up is a completely clean environment, so we'll need to install Towhee first:\n",
    "\n",
    "First, install Towhee (and Towhee models if needed):"
   ]
  },
  {
   "cell_type": "code",
   "execution_count": 1,
   "id": "ee07a1bd",
   "metadata": {
    "scrolled": true
   },
   "outputs": [],
   "source": [
    "! pip3 -q install towhee\n",
    "! pip3 -q install towhee.models"
   ]
  },
  {
   "cell_type": "markdown",
   "id": "8a440e9b",
   "metadata": {},
   "source": [
    "You can also install Towhee with latest source code from [Github](https://github.com/towhee-io/towhee)."
   ]
  },
  {
   "cell_type": "code",
   "execution_count": null,
   "id": "e0cebcc5",
   "metadata": {},
   "outputs": [],
   "source": [
    "! git clone https://github.com/towhee-io/towhee.git\n",
    "! cd towhee\n",
    "! python3 setup.py install"
   ]
  },
  {
   "cell_type": "markdown",
   "id": "956abab4",
   "metadata": {},
   "source": [
    "## Some prep work\n",
    "\n",
    "Once Towhee is installed, let's move onto a bit of prep work.\n",
    "\n",
    "## Running your first pipeline\n",
    "\n",
    "Now it's time to generate your first embedding with Towhee!\n",
    "\n",
    "Data transformations are central to Towhee; Pipelines are simply a series of transformations connected together in a directed acyclic graph. All pre-built Towhee pipelines are given names that are representative of the task at hand. To create a pipeline, import the `pipeline` function from `towhee`:"
   ]
  },
  {
   "cell_type": "code",
   "execution_count": 2,
   "id": "75c92037",
   "metadata": {},
   "outputs": [
    {
     "name": "stdout",
     "output_type": "stream",
     "text": [
      "[0.05727838 0.06637052 0.         ... 0.08792752 0.31077728 0.        ]\n"
     ]
    }
   ],
   "source": [
    "from towhee import pipeline\n",
    "\n",
    "\n",
    "# Instantiate an image embedding pipeline\n",
    "p = pipeline('image-embedding')\n",
    "\n",
    "# Apply the pipeline to an image via URL\n",
    "output = p('https://github.com/towhee-io/towhee/raw/main/docs/02-Getting%20Started/towhee.jpeg?raw=true')\n",
    "\n",
    "# Alternatively, we can use a local image instead.\n",
    "output = p('./towhee.jpeg')\n",
    "\n",
    "print(output)"
   ]
  },
  {
   "cell_type": "markdown",
   "id": "2f6ce5d3",
   "metadata": {},
   "source": [
    "That's it! The embedding vector for the corresponding input image (`towhee.jpeg`) is stored in the `output` variable.\n",
    "\n",
    "Note that the default model used by `image-embedding` is `ResNet50` (you can find the corresponding mapping for default pipelines [here](https://github.com/towhee-io/towhee/blob/main/towhee/__init__.py#L25)). The default repository for this pipeline is located on the [Towhee hub](https://towhee.io/towhee/image-embedding-resnet50); following the link will take you to a README page describing the pipeline, the model(s) used, and a simple diagram explaining how data flows through the pipeline."
   ]
  },
  {
   "cell_type": "markdown",
   "id": "d17874fb",
   "metadata": {},
   "source": [
    "## Prototyping ML applications\n",
    "\n",
    "Towhee also provides `DataCollection` - Pythonic method-chaining API for developing applications and running pipelines in just a couple lines of code. Let's use it to get the list of all numbers divisible by 7 between 0 and 20:"
   ]
  },
  {
   "cell_type": "code",
   "execution_count": 3,
   "id": "61b2440a",
   "metadata": {},
   "outputs": [
    {
     "data": {
      "text/plain": [
       "[0, 7, 14]"
      ]
     },
     "execution_count": 3,
     "metadata": {},
     "output_type": "execute_result"
    }
   ],
   "source": [
    "from towhee.functional import DataCollection\n",
    "\n",
    "DataCollection.range(20).filter(lambda x: x % 7 == 0).to_list()"
   ]
  },
  {
   "cell_type": "markdown",
   "id": "07de0ad9",
   "metadata": {},
   "source": [
    "It's as easy as that! Feel free to continue trying - we have more examples here."
   ]
  },
  {
   "cell_type": "markdown",
   "id": "47184ba9",
   "metadata": {},
   "source": [
    "## Learn more\n",
    "\n",
    "A list of all the operators we provide can be found [here](https://towhee.io/operators). As always, if you have any questions or comments, feel free to get in touch with us via [Slack](https://slack.towhee.io)."
   ]
  }
 ],
 "metadata": {
  "kernelspec": {
   "display_name": "Python [conda env:towhee]",
   "language": "python",
   "name": "conda-env-towhee-py"
  },
  "language_info": {
   "codemirror_mode": {
    "name": "ipython",
    "version": 3
   },
   "file_extension": ".py",
   "mimetype": "text/x-python",
   "name": "python",
   "nbconvert_exporter": "python",
   "pygments_lexer": "ipython3",
   "version": "3.8.12"
  }
 },
 "nbformat": 4,
 "nbformat_minor": 5
}
