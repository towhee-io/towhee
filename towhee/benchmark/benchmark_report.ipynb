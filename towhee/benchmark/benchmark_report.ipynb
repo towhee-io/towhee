{
 "cells": [
  {
   "cell_type": "markdown",
   "metadata": {},
   "source": [
    "# Benchmark\n",
    "In this Section we will report benchmarks we ran for row-based computing and column-based computing, so as to explain the advantage and necessity of introducing column-based storage."
   ]
  },
  {
   "cell_type": "markdown",
   "metadata": {},
   "source": [
    "## Speed"
   ]
  },
  {
   "cell_type": "markdown",
   "metadata": {},
   "source": [
    "First we compare the speed of comparing values in two columns (with 100000 rows) using row-based DataCollection operator and column-based pyarrow built-in operator separately.\n",
    "\n"
   ]
  },
  {
   "cell_type": "code",
   "execution_count": null,
   "metadata": {},
   "outputs": [],
   "source": [
    "import time\n",
    "import matplotlib.pyplot as plt\n",
    "import pyarrow.compute as pc\n",
    "from towhee import Entity, DataFrame\n",
    "\n",
    "e = [Entity(a=a, b=b) for a,b in zip(range(100000),range(100000))]\n",
    "df = DataFrame(e)\n",
    "time_1 = time.process_time()\n",
    "df.runas_op[('a', 'b'), 'c'](func = lambda x, y : x == y)\n",
    "time_2 = time.process_time()\n",
    "df = df.to_column()\n",
    "time_3 = time.process_time()\n",
    "df._iterable.append_column('d', pc.equal(df._iterable['a'], df._iterable['b']))\n",
    "time_4 = time.process_time()\n",
    "x = ['row_computing', 'convert_to_col', 'col_computing']\n",
    "y = [time_2 - time_1, time_3 - time_2, time_4 - time_3]\n",
    "\n",
    "plt.title('Column Comparing Result Analysis')\n",
    "plt.plot(x, y)\n",
    "plt.xlabel('action')\n",
    "plt.ylabel('time(s)')\n",
    "plt.show()"
   ]
  },
  {
   "cell_type": "markdown",
   "metadata": {},
   "source": [
    "Secondly we compare matrix matmul, with matrix size (10000, 2, 5), (100000, 2, 5), (1000000, 2, 5). In this step we want to investigate how different chunk sizes affect computational speed so we run matmul in different chunk sizes."
   ]
  },
  {
   "cell_type": "code",
   "execution_count": null,
   "metadata": {},
   "outputs": [],
   "source": [
    "import time\n",
    "import matplotlib.pyplot as plt\n",
    "import numpy as np\n",
    "import towhee\n",
    "from towhee.types.tensor_array import TensorArray\n",
    "\n",
    "x = [100000, 1000000, 10000000]\n",
    "chunk_s = []\n",
    "chunk_l = []\n",
    "unchunk = []\n",
    "row_dc = []\n",
    "for i in [100000, 1000000, 10000000]:\n",
    "\tarr = TensorArray.from_numpy(np.arange(i).reshape([-1,2,5]))\n",
    "\tdc = towhee.dc([x for x in np.arange(i).reshape([-1,2,5])])\n",
    "\ttrans = np.random.random([5,2])\n",
    "\n",
    "\ttime_1 = time.process_time()\n",
    "\t[np.matmul(a, trans) for a in arr.chunks(20)]\n",
    "\ttime_2 = time.process_time()\n",
    "\t[np.matmul(a, trans) for a in arr.chunks(50)]\n",
    "\ttime_3 = time.process_time()\n",
    "\t[np.matmul(a, trans) for a in arr]\n",
    "\ttime_4 = time.process_time()\n",
    "\t[np.matmul(a, trans) for a in dc]\n",
    "\ttime_5 = time.process_time()\n",
    "\tchunk_s.append(time_2 - time_1)\n",
    "\tchunk_l.append(time_3 - time_2)\n",
    "\tunchunk.append(time_4 - time_3)\n",
    "\trow_dc.append(time_5 - time_4)\n",
    "\n",
    "plt.title('Matrix matmul Result Analysis')\n",
    "plt.xscale('log')\n",
    "plt.yscale('log')\n",
    "plt.plot(x, chunk_s, color='green', label='chunk size 20')\n",
    "plt.plot(x, chunk_l, color='red', label='chunk size 50')\n",
    "plt.plot(x, unchunk,  color='skyblue', label='unchunk')\n",
    "plt.plot(x, row_dc, color='blue', label='row dc')\n",
    "plt.legend()\n",
    "plt.xlabel('size')\n",
    "plt.ylabel('time(s)')\n",
    "plt.show()"
   ]
  },
  {
   "cell_type": "markdown",
   "metadata": {},
   "source": [
    "Then we will test some tensor related operators, including tensor reshape and tensor matmul, with row-based computing operator and col-based computing operator."
   ]
  },
  {
   "cell_type": "code",
   "execution_count": null,
   "metadata": {},
   "outputs": [],
   "source": [
    "import time\n",
    "import matplotlib.pyplot as plt\n",
    "import numpy as np\n",
    "from towhee import DataFrame, Entity\n",
    "\n",
    "df = DataFrame([Entity(a = np.ones([1, 2])) for _ in range(100000)])\n",
    "time_1 = time.process_time()\n",
    "df = df.tensor_reshape['a', 'b'](shape = [2, 1])\n",
    "time_2 = time.process_time()\n",
    "df = df.to_column()\n",
    "time_3 = time.process_time()\n",
    "df = df.tensor_reshape['a', 'c'](shape = [2, 1])\n",
    "time_4 = time.process_time()\n",
    "\n",
    "x = ['row_computing', 'convert_to_col', 'col_computing']\n",
    "y = [time_2 - time_1, time_3 - time_2, time_4 - time_3]\n",
    "\n",
    "plt.title('Tensor Reshape Result Analysis')\n",
    "plt.plot(x, y)\n",
    "plt.xlabel('action')\n",
    "plt.ylabel('time(s)')\n",
    "plt.show()"
   ]
  },
  {
   "cell_type": "code",
   "execution_count": null,
   "metadata": {},
   "outputs": [],
   "source": [
    "import time\n",
    "import matplotlib.pyplot as plt\n",
    "import numpy as np\n",
    "from towhee import DataFrame, Entity\n",
    "from towhee.types.tensor_array import TensorArray\n",
    "\n",
    "df = DataFrame([Entity(a = np.ones([2, 1]), b = np.ones([1, 2])) for _ in range(100000)])\n",
    "time_1 = time.process_time()\n",
    "df = df.tensor_matmul[('a', 'b'), 'c']()\n",
    "time_2 = time.process_time()\n",
    "df = df.to_column()\n",
    "time_3 = time.process_time()\n",
    "df = df.tensor_matmul[('a', 'b'), 'd']()\n",
    "time_4 = time.process_time()\n",
    "\n",
    "x = ['row_computing', 'convert_to_col', 'col_computing']\n",
    "y = [time_2 - time_1, time_3 - time_2, time_4 - time_3]\n",
    "\n",
    "plt.title('Tensor Matmul Result Analysis')\n",
    "plt.plot(x, y)\n",
    "plt.xlabel('action')\n",
    "plt.ylabel('time(s)')\n",
    "plt.show()"
   ]
  }
 ],
 "metadata": {
  "interpreter": {
   "hash": "f7dd10cdbe9a9c71f7e71741efd428241b5f9fa0fecdd29ae07a5706cd5ff8a2"
  },
  "kernelspec": {
   "display_name": "Python 3.8.5 ('base')",
   "language": "python",
   "name": "python3"
  },
  "language_info": {
   "codemirror_mode": {
    "name": "ipython",
    "version": 3
   },
   "file_extension": ".py",
   "mimetype": "text/x-python",
   "name": "python",
   "nbconvert_exporter": "python",
   "pygments_lexer": "ipython3",
   "version": "3.8.5"
  },
  "orig_nbformat": 4
 },
 "nbformat": 4,
 "nbformat_minor": 2
}
